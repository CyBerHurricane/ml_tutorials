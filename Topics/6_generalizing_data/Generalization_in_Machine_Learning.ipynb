{
 "cells": [
  {
   "cell_type": "markdown",
   "metadata": {},
   "source": [
    "-------------------------------------------------------------------------------------------------------------\n",
    "-------------------------------------------------------------------------------------------------------------\n",
    "\n",
    "# Generalization in Machine Learning\n",
    "\n",
    "** Elise Jennings (ALCF) **                                  \n",
    " \n",
    " \n",
    " ejennings@anl.gov\n",
    "\n",
    "\n",
    "-------------------------------------------------------------------------------------------------------------\n",
    "-------------------------------------------------------------------------------------------------------------"
   ]
  },
  {
   "cell_type": "markdown",
   "metadata": {},
   "source": [
    "The data we collect is noisy and is only one realization from a probability distribution function (Bayesian view of the world).\n",
    "\n",
    "Ultimate test for trained ML model: After tuning the model using the training set, how well does the algorithm perform on unseen data? We shouldn't be too impressed if the ML model fits the training set to 99.9% accuracy!\n",
    "\n",
    "\n",
    "## Topics for this session\n",
    "* Over-fitting\n",
    "* Cross-validation\n",
    "* Metrics\n",
    "\n",
    " ----------------"
   ]
  },
  {
   "cell_type": "markdown",
   "metadata": {},
   "source": [
    "### Recap: Supervised learning"
   ]
  },
  {
   "cell_type": "markdown",
   "metadata": {
    "collapsed": false
   },
   "source": [
    "<img src=\"figures/supervised_workflow.svg\" width=50%>"
   ]
  },
  {
   "cell_type": "markdown",
   "metadata": {
    "collapsed": true
   },
   "source": [
    "<img src=\"figures/data_representation.svg\" width=40%>"
   ]
  },
  {
   "cell_type": "markdown",
   "metadata": {},
   "source": [
    "<img src=\"figures/train_test_split_matrix.svg\" width=40%>"
   ]
  },
  {
   "cell_type": "markdown",
   "metadata": {},
   "source": [
    "## Overfitting and Model Complexity"
   ]
  },
  {
   "cell_type": "markdown",
   "metadata": {},
   "source": [
    "\n",
    "\n",
    "\n",
    "### Overfitting\n",
    "\n",
    "- Model fits the training data too well: could be fitting to noise.\n",
    "- Result is poor performance of model\n",
    "    \n",
    "\n",
    "\n",
    "An example of overfitting:"
   ]
  },
  {
   "cell_type": "code",
   "execution_count": 82,
   "metadata": {
    "collapsed": true
   },
   "outputs": [],
   "source": [
    "%matplotlib inline\n",
    "import matplotlib.pyplot as plt\n",
    "import numpy as np\n",
    "import math"
   ]
  },
  {
   "cell_type": "code",
   "execution_count": 114,
   "metadata": {
    "collapsed": false
   },
   "outputs": [],
   "source": [
    "#generate some noisy data from a cosine function\n",
    "x=np.arange(-4,2,0.3)\n",
    "y_true = y = [np.cos(i) for i in x]\n",
    "y = np.array([np.cos(i)+np.random.normal(0,0.3) for i in x])\n",
    "x = x.reshape(len(x),1)\n"
   ]
  },
  {
   "cell_type": "markdown",
   "metadata": {},
   "source": [
    "General approach in ML: train on given set (where you know the answer), then test on \"unseen\" data."
   ]
  },
  {
   "cell_type": "code",
   "execution_count": 115,
   "metadata": {
    "collapsed": true
   },
   "outputs": [],
   "source": [
    "#Generate a new set of data to test on\n",
    "x_test=np.arange(-4,2,1.)\n",
    "y_test=np.array([np.cos(i)+np.random.normal(0,0.3) for i in x_test])\n",
    "x_test = x_test.reshape(len(x_test),1)\n",
    "\n",
    "\n",
    "#Built in function in sklearn\n",
    "#from sklearn.model_selection import train_test_split\n",
    "#X_train, X_test, y_train, y_test = train_test_split(x,y)"
   ]
  },
  {
   "cell_type": "code",
   "execution_count": 116,
   "metadata": {
    "collapsed": false
   },
   "outputs": [
    {
     "data": {
      "text/plain": [
       "<matplotlib.legend.Legend at 0x11f9c9790>"
      ]
     },
     "execution_count": 116,
     "metadata": {},
     "output_type": "execute_result"
    },
    {
     "data": {
      "image/png": "[encoded data removed]",
      "text/plain": [
       "<matplotlib.figure.Figure at 0x11f3c85d0>"
      ]
     },
     "metadata": {},
     "output_type": "display_data"
    }
   ],
   "source": [
    "plt.plot(x,y, marker=\"o\",linestyle=\"None\", color=\"blue\",label=\"train\")\n",
    "plt.plot(x_test,y_test, marker=\"o\",linestyle=\"None\", color=\"red\",label=\"test\")\n",
    "plt.plot(x,y_true,linestyle=\"-\",label=\"$\\cos(x)$\")\n",
    "plt.legend(loc=2)"
   ]
  },
  {
   "cell_type": "code",
   "execution_count": 117,
   "metadata": {
    "collapsed": false
   },
   "outputs": [],
   "source": [
    "#let's train a model using K-nearest neighbour regression and Decision Trees\n",
    "from sklearn.svm import SVR\n",
    "from sklearn import tree\n",
    "from sklearn.neighbors import KNeighborsRegressor"
   ]
  },
  {
   "cell_type": "markdown",
   "metadata": {},
   "source": [
    "## K-Nearest Neighbours algorithm\n",
    "\n",
    "\n",
    "- information using K nearest neighbours\n",
    "- average over neighbours\n",
    "- too many neighbours -> oversmoothing\n",
    "- too few neighbours -> fitting to individual points"
   ]
  },
  {
   "cell_type": "markdown",
   "metadata": {},
   "source": [
    "### kNN Classification                                                        \n",
    "<img src=\"figures/440px-KnnClassification.svg.png\" width=20%>\n",
    "<img src=\"figures/k-nearest-neighbor-presentation-10-638.jpg\" width=50%>\n",
    "\n",
    "\n",
    "### Regression Trees\n",
    "\n",
    "Split on intervals of the data. Increasing depth of tree = decreasing intervals\n",
    "\n",
    "<img src=\"figures/sphx_glr_plot_tree_regression_0011.png\" width=50%>"
   ]
  },
  {
   "cell_type": "code",
   "execution_count": 118,
   "metadata": {
    "collapsed": false
   },
   "outputs": [],
   "source": [
    "#Parameters of the models\n",
    "\n",
    "n_neighbors = 3 #KNN regressor\n",
    "MaxDepth=3 #depth of the tree\n",
    "\n",
    "tree_regression = tree.DecisionTreeRegressor(max_depth=MaxDepth)\n",
    "kneighbor_regression = KNeighborsRegressor(n_neighbors=n_neighbors)\n"
   ]
  },
  {
   "cell_type": "code",
   "execution_count": 119,
   "metadata": {
    "collapsed": false
   },
   "outputs": [],
   "source": [
    "#Fit model to data and predict \n",
    "#Here for this simple example, we are just using the model to predict the x training set again.\n",
    "\n",
    "y_tree = tree_regression.fit(x,y).predict(x)\n",
    "y_knn = kneighbor_regression.fit(x,y).predict(x)\n"
   ]
  },
  {
   "cell_type": "code",
   "execution_count": 120,
   "metadata": {
    "collapsed": false
   },
   "outputs": [
    {
     "data": {
      "text/plain": [
       "<matplotlib.legend.Legend at 0x11fb1efd0>"
      ]
     },
     "execution_count": 120,
     "metadata": {},
     "output_type": "execute_result"
    },
    {
     "data": {
      "image/png": "[encoded data removed]",
      "text/plain": [
       "<matplotlib.figure.Figure at 0x11f79e9d0>"
      ]
     },
     "metadata": {},
     "output_type": "display_data"
    }
   ],
   "source": [
    "plt.plot(x,y, marker=\"o\",linestyle=\"None\", color=\"blue\",label=\"data\")\n",
    "plt.plot(x,y_true,linestyle=\"-\",label=\"$\\cos(x)$\")\n",
    "\n",
    "\n",
    "plt.plot(x,y_tree,linestyle=\"--\",color=\"red\", label=\"TreeDepth=\"+str(MaxDepth))\n",
    "plt.plot(x,y_knn,linestyle=\":\",color=\"green\", label=\"KNN=\"+str(n_neighbors))\n",
    "plt.legend()"
   ]
  },
  {
   "cell_type": "code",
   "execution_count": 121,
   "metadata": {
    "collapsed": false
   },
   "outputs": [
    {
     "data": {
      "image/png": "[encoded data removed]",
      "text/plain": [
       "<matplotlib.figure.Figure at 0x11fb65510>"
      ]
     },
     "metadata": {},
     "output_type": "display_data"
    }
   ],
   "source": [
    "plots=[131,132,133]\n",
    "nn=[1,5,12]\n",
    "fig, axes = plt.subplots(1, 3, figsize=(15, 5))\n",
    "for n, ax in zip(nn, axes):\n",
    "    kneighbor_regression = KNeighborsRegressor(n_neighbors=n)\n",
    "    y_knn = kneighbor_regression.fit(x, y).predict(x)\n",
    "    \n",
    "    ax.plot(x,y, marker=\"o\",linestyle=\"None\", color=\"blue\",label=\"data\")\n",
    "    ax.plot(x,y_true,linestyle=\"-\",label=\"$\\cos(x)$\")\n",
    "    if n==1: ax.legend(loc=2)\n",
    "\n",
    "    ax.plot(x,y_knn,linestyle=\":\",color=\"green\", label=\"KNN=\"+str(n_neighbors))\n",
    "    ax.set_title(\"NN=\"+str(n))"
   ]
  },
  {
   "cell_type": "markdown",
   "metadata": {},
   "source": [
    "# Many ways we can accidentally overfit to training data\n",
    "\n",
    "- complicated model with simple data e.g. increasing degree of polynomial\n",
    "- using training data over and over again\n",
    "- fit model after model on same training data "
   ]
  },
  {
   "cell_type": "markdown",
   "metadata": {},
   "source": [
    "\n",
    "<img src=\"figures/overfitting_underfitting_cartoon.svg\" width=90%>"
   ]
  },
  {
   "cell_type": "markdown",
   "metadata": {},
   "source": [
    "## A very brief note on Regularization\n",
    "\n",
    "We can reduce overfitting by adding a penalty to the loss function\n",
    "\n",
    "For example:\n",
    "\n",
    "### L2 regularization\n",
    "\n",
    "$\\hat{w} = {\\mbox{arg min}}_w (\\bf{Y} - \\bf{X}w )^T(\\bf{Y} - \\bf{X}w )  + \\lambda w^Tw$\n",
    "\n",
    "### L1 regularization\n",
    "\n",
    "$\\hat{w} = {\\mbox{arg min}}_w (\\bf{Y} - \\bf{X}w )^T(\\bf{Y} - \\bf{X}w )  + \\lambda \\sum_j |w_j|$\n",
    "\n",
    "You can select different loss and penalty functions.\n",
    "E.g. in scikit learn:\n",
    "\n",
    "LinearSVC(penalty='l1', loss='squared_hinge')\n"
   ]
  },
  {
   "cell_type": "markdown",
   "metadata": {},
   "source": [
    "-----------------\n",
    "\n",
    "## Cross-Validation\n",
    "\n",
    "Put aside part of the training set, called a validation set to evaluate the learning algorithm.\n",
    "Generate \"folds\" in the training data and a validation set in each fold. The variation in the accuracy of the model on different folds gives us an error on the trained model.\n",
    "Can vary \n",
    "- the number of folds\n",
    "- the metric (scoring function)\n",
    "- the methods of cross validation\n",
    "- the parameters of the model in each fold (hyperparameters)\n",
    "- feature selection (discard irrelevant features)\n"
   ]
  },
  {
   "cell_type": "markdown",
   "metadata": {},
   "source": [
    "<img src=\"figures/cross_validation.svg\" width=60%>\n"
   ]
  },
  {
   "cell_type": "markdown",
   "metadata": {},
   "source": [
    "## Example metrics\n",
    "\n",
    "We need a way to score the accuracy of the trained model. How well did it predict the target function in the test set?\n",
    "Metrics can be different for regression and classification."
   ]
  },
  {
   "cell_type": "code",
   "execution_count": 122,
   "metadata": {
    "collapsed": false
   },
   "outputs": [
    {
     "name": "stdout",
     "output_type": "stream",
     "text": [
      "['f1', 'f1_weighted', 'f1_samples', 'neg_mean_squared_error', 'precision_weighted', 'recall_samples', 'recall_micro', 'adjusted_rand_score', 'recall_macro', 'mean_absolute_error', 'precision_macro', 'neg_log_loss', 'neg_mean_absolute_error', 'f1_macro', 'recall_weighted', 'accuracy', 'precision_samples', 'median_absolute_error', 'precision', 'log_loss', 'precision_micro', 'average_precision', 'roc_auc', 'r2', 'recall', 'mean_squared_error', 'f1_micro', 'neg_median_absolute_error']\n"
     ]
    }
   ],
   "source": [
    "from sklearn.metrics.scorer import SCORERS\n",
    "print(SCORERS.keys())"
   ]
  },
  {
   "cell_type": "markdown",
   "metadata": {},
   "source": [
    "A **confusion matrix** (contingency table) is a nice way to show the accuracy of a classifier.\n",
    "\n",
    "<img src=\"figures/Precisionrecall.svg.png\" width=30%>\n",
    "\n",
    "<img src=\"figures/Binary_Classification_Matrix_Definition.png\" width=20%>"
   ]
  },
  {
   "cell_type": "markdown",
   "metadata": {},
   "source": [
    "## AUROC = Area Under the Receiver Operating Characteristic curve\n",
    "\n",
    "\n",
    "Plot of True positve rate $\\frac{TP}{TP+FN}$ versus False positve rate $\\frac{FP}{TP+TN}$. This illustrates the performance of a binary classifier system as its threshold is varied\n",
    "\n",
    "ROC curve of a random predictor has an AUROC of 0.5.\n",
    "\n",
    "<img src=\"figures/roc.png\" width=70%>"
   ]
  },
  {
   "cell_type": "markdown",
   "metadata": {},
   "source": [
    "## The f1 metric (binary classification)\n",
    "\n",
    "\n",
    " $f_1 = 2\\frac{\\mbox{precision*recall}}{\\mbox{precision} + \\mbox{recall}}$\n",
    " \n",
    " \n",
    "## The $R^2$ metric (regression)\n",
    "\n",
    "$R^2 = 1 - \\frac{u}{v}$ \n",
    "\n",
    "where\n",
    "\n",
    "$u = \\sum_i (y_{true}^i - y_{pred}^i)^2$ \n",
    "\n",
    "and $v$ is the variance of the data\n",
    "\n",
    "$v =  \\sum_i (y_{true}^i -  \\bar{y}_{true})^2$ "
   ]
  },
  {
   "cell_type": "code",
   "execution_count": 123,
   "metadata": {
    "collapsed": false
   },
   "outputs": [
    {
     "name": "stdout",
     "output_type": "stream",
     "text": [
      "0.878296799603\n",
      "0.615211177395\n"
     ]
    }
   ],
   "source": [
    "#Both KNN and decision trees above use R^2 metric\n",
    "print tree_regression.score(x,y)\n",
    "print kneighbor_regression.score(x,y)\n"
   ]
  },
  {
   "cell_type": "markdown",
   "metadata": {},
   "source": [
    "## Cross validation and scoring example using a scikit-learn dataset"
   ]
  },
  {
   "cell_type": "code",
   "execution_count": 108,
   "metadata": {
    "collapsed": false
   },
   "outputs": [],
   "source": [
    "from sklearn.datasets import load_iris\n",
    "iris = load_iris()"
   ]
  },
  {
   "cell_type": "code",
   "execution_count": 109,
   "metadata": {
    "collapsed": true
   },
   "outputs": [],
   "source": [
    "X = iris.data\n",
    "y = iris.target"
   ]
  },
  {
   "cell_type": "code",
   "execution_count": 110,
   "metadata": {
    "collapsed": false
   },
   "outputs": [],
   "source": [
    "#sklearn.model_selection.cross_val_score(estimator, X, y=None, groups=None, \n",
    "#scoring=None, cv=None, n_jobs=1, verbose=0, fit_params=None, pre_dispatch='2*n_jobs')[source]\n",
    "\n",
    "from sklearn.model_selection import cross_val_score #Evaluate a score by cross-validation\n",
    "from sklearn.svm import LinearSVC"
   ]
  },
  {
   "cell_type": "code",
   "execution_count": 111,
   "metadata": {
    "collapsed": false
   },
   "outputs": [
    {
     "data": {
      "text/plain": [
       "array([ 1.        ,  1.        ,  0.93333333,  0.9       ,  1.        ])"
      ]
     },
     "execution_count": 111,
     "metadata": {},
     "output_type": "execute_result"
    }
   ],
   "source": [
    "cross_val_score(LinearSVC(), X, y, cv=5)\n",
    "\n",
    "#print LinearSVC.score.__doc__"
   ]
  },
  {
   "cell_type": "code",
   "execution_count": 112,
   "metadata": {
    "collapsed": false
   },
   "outputs": [
    {
     "data": {
      "text/plain": [
       "array([ 1.        ,  1.        ,  0.93333333,  0.89974937,  1.        ])"
      ]
     },
     "execution_count": 112,
     "metadata": {},
     "output_type": "execute_result"
    }
   ],
   "source": [
    "cross_val_score(LinearSVC(), X, y, cv=5, scoring=\"f1_weighted\") # required for multiclass/multilabel targets,\n",
    "#Calculate metrics \n",
    "#for each label, and find their unweighted mean. This does not take label imbalance into account."
   ]
  },
  {
   "cell_type": "markdown",
   "metadata": {},
   "source": [
    "Let's go to a binary task for a moment"
   ]
  },
  {
   "cell_type": "code",
   "execution_count": 160,
   "metadata": {
    "collapsed": false
   },
   "outputs": [
    {
     "data": {
      "text/plain": [
       "array([0, 0, 0, 0, 0, 0, 0, 0, 0, 0, 0, 0, 0, 0, 0, 0, 0, 0, 0, 0, 0, 0, 0,\n",
       "       0, 0, 0, 0, 0, 0, 0, 0, 0, 0, 0, 0, 0, 0, 0, 0, 0, 0, 0, 0, 0, 0, 0,\n",
       "       0, 0, 0, 0, 1, 1, 1, 1, 1, 1, 1, 1, 1, 1, 1, 1, 1, 1, 1, 1, 1, 1, 1,\n",
       "       1, 1, 1, 1, 1, 1, 1, 1, 1, 1, 1, 1, 1, 1, 1, 1, 1, 1, 1, 1, 1, 1, 1,\n",
       "       1, 1, 1, 1, 1, 1, 1, 1, 0, 0, 0, 0, 0, 0, 0, 0, 0, 0, 0, 0, 0, 0, 0,\n",
       "       0, 0, 0, 0, 0, 0, 0, 0, 0, 0, 0, 0, 0, 0, 0, 0, 0, 0, 0, 0, 0, 0, 0,\n",
       "       0, 0, 0, 0, 0, 0, 0, 0, 0, 0, 0, 0])"
      ]
     },
     "execution_count": 160,
     "metadata": {},
     "output_type": "execute_result"
    }
   ],
   "source": [
    "y % 2"
   ]
  },
  {
   "cell_type": "code",
   "execution_count": 161,
   "metadata": {
    "collapsed": false
   },
   "outputs": [
    {
     "data": {
      "text/plain": [
       "array([ 0.74509804,  0.76      ,  0.55102041])"
      ]
     },
     "execution_count": 161,
     "metadata": {},
     "output_type": "execute_result"
    }
   ],
   "source": [
    "cross_val_score(LinearSVC(), X, y % 2)"
   ]
  },
  {
   "cell_type": "code",
   "execution_count": 162,
   "metadata": {
    "collapsed": false
   },
   "outputs": [
    {
     "data": {
      "text/plain": [
       "array([ 0.38095238,  0.625     ,  0.47619048])"
      ]
     },
     "execution_count": 162,
     "metadata": {},
     "output_type": "execute_result"
    }
   ],
   "source": [
    "cross_val_score(LinearSVC(), X, y % 2, scoring=\"f1\")"
   ]
  },
  {
   "cell_type": "markdown",
   "metadata": {},
   "source": [
    "Implementing your own scoring metric:"
   ]
  },
  {
   "cell_type": "code",
   "execution_count": 163,
   "metadata": {
    "collapsed": false
   },
   "outputs": [
    {
     "data": {
      "text/plain": [
       "array([ 0.74509804,  0.76      ,  0.55102041])"
      ]
     },
     "execution_count": 163,
     "metadata": {},
     "output_type": "execute_result"
    }
   ],
   "source": [
    "def my_accuracy_scoring(est, X, y):\n",
    "    return np.mean(est.predict(X) == y)\n",
    "\n",
    "cross_val_score(LinearSVC(), X, y%2, scoring=my_accuracy_scoring)\n"
   ]
  },
  {
   "cell_type": "markdown",
   "metadata": {},
   "source": [
    "## There are different methods to create splits in  cross-validation"
   ]
  },
  {
   "cell_type": "code",
   "execution_count": 164,
   "metadata": {
    "collapsed": false
   },
   "outputs": [
    {
     "data": {
      "text/plain": [
       "array([ 0.9       ,  0.96666667,  0.96666667,  0.95      ,  0.98333333,\n",
       "        0.96666667,  0.95      ,  0.93333333,  0.95      ,  0.98333333])"
      ]
     },
     "execution_count": 164,
     "metadata": {},
     "output_type": "execute_result"
    }
   ],
   "source": [
    "from sklearn.model_selection import ShuffleSplit #random data omitted in splits, not guarenteed each split is unique\n",
    "\n",
    "shuffle_split = ShuffleSplit( 10, test_size=.4)\n",
    "cross_val_score(LinearSVC(), X, y, cv=shuffle_split)"
   ]
  },
  {
   "cell_type": "code",
   "execution_count": 165,
   "metadata": {
    "collapsed": false
   },
   "outputs": [],
   "source": [
    "from sklearn.cross_validation import StratifiedKFold, KFold, ShuffleSplit\n",
    "\n",
    "def plot_cv(cv, n_samples):\n",
    "    masks = []\n",
    "    for train, test in cv:\n",
    "        mask = np.zeros(n_samples, dtype=bool)\n",
    "        mask[test] = 1\n",
    "        masks.append(mask)\n",
    "    plt.matshow(masks)"
   ]
  },
  {
   "cell_type": "code",
   "execution_count": 166,
   "metadata": {
    "collapsed": false
   },
   "outputs": [
    {
     "data": {
      "image/png": "[encoded data removed]",
      "text/plain": [
       "<matplotlib.figure.Figure at 0x11cdfc550>"
      ]
     },
     "metadata": {},
     "output_type": "display_data"
    }
   ],
   "source": [
    "plot_cv(KFold(len(X), n_folds=20), len(iris.target))"
   ]
  },
  {
   "cell_type": "code",
   "execution_count": 167,
   "metadata": {
    "collapsed": false
   },
   "outputs": [
    {
     "data": {
      "image/png": "[encoded data removed]",
      "text/plain": [
       "<matplotlib.figure.Figure at 0x11cdbd950>"
      ]
     },
     "metadata": {},
     "output_type": "display_data"
    }
   ],
   "source": [
    "plot_cv(StratifiedKFold(y, n_folds=20), len(y))"
   ]
  },
  {
   "cell_type": "code",
   "execution_count": 168,
   "metadata": {
    "collapsed": false
   },
   "outputs": [
    {
     "data": {
      "image/png": "[encoded data removed]",
      "text/plain": [
       "<matplotlib.figure.Figure at 0x11ccd7150>"
      ]
     },
     "metadata": {},
     "output_type": "display_data"
    }
   ],
   "source": [
    "plot_cv(ShuffleSplit( len(X),n_iter=20, test_size=.2), len(iris.target))\n",
    "\n",
    "#ShuffleSplit("
   ]
  },
  {
   "cell_type": "markdown",
   "metadata": {},
   "source": [
    "\n",
    "\n",
    "## Hyperparameters of a model\n",
    "\n",
    "We saw how varying values for k in a nearest neighbours algorithm affected the model accuracy. \n",
    "\n",
    "How do we efficiently search for the best parameter values? (for a given metric)\n",
    "\n",
    "This can be implemented during cross validation.\n",
    "\n",
    "E.g.  Linear SVC\n",
    "\n",
    "Grid search over specified parameter values for an estimator like the \"C\" parameter.\n",
    "\n",
    "We want a hyperplane that has the largest minimal margin **and** correctly classifies as many instances as possible. There is a tradeoff between the two.\n",
    "\n",
    "<img src=\"figures/c_svm.png\" width=80%>"
   ]
  },
  {
   "cell_type": "code",
   "execution_count": 169,
   "metadata": {
    "collapsed": false
   },
   "outputs": [
    {
     "name": "stdout",
     "output_type": "stream",
     "text": [
      "{'C': 1.1}\n"
     ]
    }
   ],
   "source": [
    "from sklearn.model_selection import GridSearchCV\n",
    "\n",
    "y = iris.target\n",
    "grid = GridSearchCV(LinearSVC(),{'C' : [0.001, 0.01,0.1,1.1, 100., 1000]},cv=2)\n",
    "grid.fit(X, y)\n",
    "print(grid.best_params_)\n",
    "#print(grid.cv_results_)"
   ]
  },
  {
   "cell_type": "markdown",
   "metadata": {},
   "source": [
    "Beware of parameter degeneracies in a model !"
   ]
  },
  {
   "cell_type": "code",
   "execution_count": 170,
   "metadata": {
    "collapsed": false
   },
   "outputs": [
    {
     "name": "stdout",
     "output_type": "stream",
     "text": [
      "{'C': 100.0}\n"
     ]
    }
   ],
   "source": [
    "\n",
    "\n",
    "grid = GridSearchCV(LinearSVC(penalty='l1',dual=False),{'C' : [0.001, 0.01,0.1,1.1, 100., 1000]},cv=2)\n",
    "grid.fit(X, y)\n",
    "print(grid.best_params_)"
   ]
  },
  {
   "cell_type": "markdown",
   "metadata": {},
   "source": [
    "# Validation Curves\n",
    "\n",
    "Visual summary of the results of cross validation, hyperparameter search for training and test sets "
   ]
  },
  {
   "cell_type": "code",
   "execution_count": 11,
   "metadata": {
    "collapsed": false
   },
   "outputs": [],
   "source": [
    "from sklearn.datasets import load_digits\n",
    "from sklearn.ensemble import RandomForestClassifier\n",
    "from sklearn.model_selection import validation_curve\n",
    "from sklearn.svm import LinearSVC\n",
    "from sklearn.neighbors import KNeighborsClassifier"
   ]
  },
  {
   "cell_type": "code",
   "execution_count": 18,
   "metadata": {
    "collapsed": false
   },
   "outputs": [],
   "source": [
    "digits = load_digits()\n",
    "X, y = digits.data, digits.target\n",
    "\n",
    "\n"
   ]
  },
  {
   "cell_type": "code",
   "execution_count": 13,
   "metadata": {
    "collapsed": true
   },
   "outputs": [],
   "source": [
    "model = RandomForestClassifier(n_estimators=20)\n",
    "param_range = range(1, 13)\n",
    "training_scores, validation_scores = validation_curve(model, X, y,\n",
    "                                                      param_name=\"max_depth\",\n",
    "                                                      param_range=param_range, cv=5)"
   ]
  },
  {
   "cell_type": "code",
   "execution_count": 14,
   "metadata": {
    "collapsed": true
   },
   "outputs": [],
   "source": [
    "def plot_validation_curve(parameter_values, train_scores, validation_scores):\n",
    "    train_scores_mean = np.mean(train_scores, axis=1)\n",
    "    train_scores_std = np.std(train_scores, axis=1)\n",
    "    validation_scores_mean = np.mean(validation_scores, axis=1)\n",
    "    validation_scores_std = np.std(validation_scores, axis=1)\n",
    "\n",
    "    plt.fill_between(parameter_values, train_scores_mean - train_scores_std,\n",
    "                     train_scores_mean + train_scores_std, alpha=0.1,\n",
    "                     color=\"r\")\n",
    "    plt.fill_between(parameter_values, validation_scores_mean - validation_scores_std,\n",
    "                     validation_scores_mean + validation_scores_std, alpha=0.1, color=\"g\")\n",
    "    plt.plot(parameter_values, train_scores_mean, 'o-', color=\"r\",\n",
    "             label=\"Training score\")\n",
    "    plt.plot(parameter_values, validation_scores_mean, 'o-', color=\"g\",\n",
    "             label=\"Validation score\")\n",
    "    plt.ylim(validation_scores_mean.min() - .1, train_scores_mean.max() + .1)\n",
    "    #plt.xscale('log')\n",
    "    plt.legend(loc=\"best\")"
   ]
  },
  {
   "cell_type": "code",
   "execution_count": 15,
   "metadata": {
    "collapsed": false
   },
   "outputs": [
    {
     "data": {
      "image/png": "[encoded data removed]",
      "text/plain": [
       "<matplotlib.figure.Figure at 0x11d58b4d0>"
      ]
     },
     "metadata": {},
     "output_type": "display_data"
    }
   ],
   "source": [
    "plt.figure()\n",
    "plot_validation_curve(param_range, training_scores, validation_scores)"
   ]
  },
  {
   "cell_type": "markdown",
   "metadata": {},
   "source": [
    "# Exercise 1\n",
    "Use  KFold cross validation and StratifiedKFold cross validation (3 or 5 folds) for LinearSVC on the iris dataset.\n",
    "Why are the results so different? How could you get more similar results?"
   ]
  },
  {
   "cell_type": "markdown",
   "metadata": {},
   "source": [
    "# Exercise 2\n",
    "\n",
    "Plot the validation curve on the digit dataset for:\n",
    "* a LinearSVC with a logarithmic range of regularization parameters ``C`` starting at $10^{-6}$.\n",
    "* KNeighborsClassifier with a linear range of neighbors ``n_neighbors``.\n",
    "\n",
    "What do you expect them to look like? How do they actually look like?"
   ]
  },
  {
   "cell_type": "code",
   "execution_count": null,
   "metadata": {
    "collapsed": true
   },
   "outputs": [],
   "source": []
  },
  {
   "cell_type": "code",
   "execution_count": null,
   "metadata": {
    "collapsed": true
   },
   "outputs": [],
   "source": []
  }
 ],
 "metadata": {
  "kernelspec": {
   "display_name": "Python 2",
   "language": "python",
   "name": "python2"
  },
  "language_info": {
   "codemirror_mode": {
    "name": "ipython",
    "version": 2
   },
   "file_extension": ".py",
   "mimetype": "text/x-python",
   "name": "python",
   "nbconvert_exporter": "python",
   "pygments_lexer": "ipython2",
   "version": "2.7.13"
  }
 },
 "nbformat": 4,
 "nbformat_minor": 2
}
