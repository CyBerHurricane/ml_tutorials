{
 "cells": [
  {
   "cell_type": "code",
   "execution_count": 1,
   "metadata": {
    "collapsed": true
   },
   "outputs": [],
   "source": [
    "import numpy as np\n",
    "import matplotlib.pyplot as plt\n",
    "from sklearn.linear_model import LinearRegression\n",
    "\n",
    "def pause():\n",
    "    programPause = raw_input(\"Press the <ENTER> key to continue...\")\n",
    "\n",
    "a = 0.5\n",
    "b = 1.0\n",
    "\n",
    "# x from 0 to 10\n",
    "x = 30 * np.random.random(20)\n",
    "print('x')\n",
    "print(x)\n",
    "pause()\n",
    "# y = a*x + b with noise\n",
    "y = a * x + b + np.random.normal(size=x.shape)\n",
    "print('y')\n",
    "print(y)\n",
    "pause()\n",
    "\n",
    "# create a linear regression\n",
    "reg = LinearRegression()\n",
    "reg.fit(x[:, None], y)\n",
    "print('model')\n",
    "print(reg)\n",
    "pause()\n",
    "print('Estimated a:', reg.coef_)\n",
    "print('Estimated b:', reg.intercept_)\n",
    "pause()\n",
    "\n",
    "\n",
    "# predict y from the data\n",
    "x_new = np.linspace(0, 30, 10)\n",
    "y_new = reg.predict(x_new[:, None])\n",
    "print('x_new')\n",
    "print(x_new)\n",
    "pause()\n",
    "\n",
    "print('y_new')\n",
    "print(y_new)\n",
    "pause()\n",
    "\n",
    "# plot the results\n",
    "ax = plt.axes()\n",
    "ax.scatter(x, y, color='green')\n",
    "ax.scatter(x_new, y_new, color='blue')\n",
    "ax.plot(x_new, y_new, color='black')\n",
    "ax.set_xlabel('x')\n",
    "ax.set_ylabel('y')\n",
    "ax.axis('tight')\n",
    "plt.savefig('linear_regression.png', bbox_inches='tight')\n",
    "\n",
    "plt.show()"
   ]
  },
  {
   "cell_type": "code",
   "execution_count": null,
   "metadata": {
    "collapsed": true
   },
   "outputs": [],
   "source": []
  }
 ],
 "metadata": {
  "kernelspec": {
   "display_name": "Python 2",
   "language": "python",
   "name": "python2"
  },
  "language_info": {
   "codemirror_mode": {
    "name": "ipython",
    "version": 2
   },
   "file_extension": ".py",
   "mimetype": "text/x-python",
   "name": "python",
   "nbconvert_exporter": "python",
   "pygments_lexer": "ipython2",
   "version": "2.7.12"
  }
 },
 "nbformat": 4,
 "nbformat_minor": 0
}
