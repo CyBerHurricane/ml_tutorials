{
 "cells": [
  {
   "cell_type": "markdown",
   "metadata": {
    "collapsed": true
   },
   "source": [
    "# Simple Classification With SciKit-Learn\n",
    "\n",
    "We will be visualizing the IRIS dataset using SciKit-Learn using a few of the built-in classifiers.  "
   ]
  },
  {
   "cell_type": "markdown",
   "metadata": {},
   "source": [
    "We'll start with some import statements to use libraries that will be needed."
   ]
  },
  {
   "cell_type": "code",
   "execution_count": 1,
   "metadata": {
    "collapsed": true
   },
   "outputs": [],
   "source": [
    "from __future__ import print_function\n",
    "import numpy as np\n",
    "from sklearn.datasets import load_iris\n",
    "from sklearn.ensemble import (RandomForestClassifier, ExtraTreesClassifier, AdaBoostClassifier, GradientBoostingClassifier)\n",
    "from sklearn.tree import DecisionTreeClassifier\n",
    "#from sklearn.cross_validation import train_test_split\n",
    "from sklearn.model_selection import train_test_split"
   ]
  },
  {
   "cell_type": "markdown",
   "metadata": {},
   "source": [
    "We'll start by loading the IRIS dataset into memory and defining the *n_estimators* variable which tells us how many trees to produce in the ensembles.\n",
    "\n",
    "Afterwards, we'll split our data into training and testing sets."
   ]
  },
  {
   "cell_type": "code",
   "execution_count": 2,
   "metadata": {
    "collapsed": true
   },
   "outputs": [],
   "source": [
    "n_estimators = 10\n",
    "iris = load_iris()\n",
    "\n",
    "\n",
    "X = iris.data\n",
    "y = iris.target\n",
    "\n",
    "X_train, X_test, y_train, y_test = train_test_split(X, y, test_size=0.5, random_state=0)"
   ]
  },
  {
   "cell_type": "markdown",
   "metadata": {},
   "source": [
    "The majority of classifiers in SciKit-Learn follow a similar pattern to run.  Specifically you:\n",
    "\n",
    "```python\n",
    "CLASSIFIER = CLASSIFIER_CLASS(...)\n",
    "CLASSIFIER = CLASSIFIER.fit(...)\n",
    "```\n",
    "\n",
    "There are many ways to score your classifier, SciKit-Learn does offer a *score* function for you to use.  For specific models that support feature importances, they can be extracted from the public *feature_importances_* variable in the classifier class.\n",
    "\n",
    "We'll run four models below:\n",
    "- Decision tree\n",
    "- Random forest\n",
    "- Extremely randomized trees (ExtraTrees)\n",
    "- Adaboost\n",
    "- Gradient boosting\n",
    "\n",
    "We'll print their scores afterwards."
   ]
  },
  {
   "cell_type": "code",
   "execution_count": 4,
   "metadata": {
    "collapsed": false
   },
   "outputs": [
    {
     "name": "stdout",
     "output_type": "stream",
     "text": [
      "Decision Tree: 0.96\n",
      "Random Forest: 0.92\n",
      "Extra Trees: 0.946666666667\n",
      "AdaBoost: 0.92\n",
      "Gradient Boost: 0.946666666667\n",
      "\n"
     ]
    }
   ],
   "source": [
    "DT = DecisionTreeClassifier(max_depth=3)\n",
    "DT = DT.fit(X_train, y_train)\n",
    "DTscore = DT.score(X_test, y_test)                           \n",
    "DTimportance = DT.feature_importances_\n",
    "\n",
    "RF = RandomForestClassifier(n_estimators=n_estimators)\n",
    "RF = RF.fit(X_train, y_train)\n",
    "RFscore = RF.score(X_test, y_test)                           \n",
    "RFimportance = RF.feature_importances_\n",
    "\n",
    "ET = ExtraTreesClassifier(n_estimators=n_estimators)\n",
    "ET = ET.fit(X_train, y_train)\n",
    "ETscore = ET.score(X_test, y_test)                           \n",
    "ETimportance = ET.feature_importances_\n",
    "\n",
    "AB = AdaBoostClassifier(algorithm='SAMME.R', n_estimators=n_estimators)\n",
    "AB = AB.fit(X_train, y_train)\n",
    "ABscore = AB.score(X_test, y_test)                           \n",
    "ABimportance = AB.feature_importances_\n",
    "\n",
    "GB = GradientBoostingClassifier(n_estimators=n_estimators)\n",
    "GB = GB.fit(X_train, y_train)\n",
    "GBscore = GB.score(X_test, y_test)                           \n",
    "GBimportance = GB.feature_importances_\n",
    "\n",
    "print (\"Decision Tree:\", DTscore)\n",
    "print (\"Random Forest:\", RFscore)\n",
    "print (\"Extra Trees:\", ETscore)\n",
    "print (\"AdaBoost:\", ABscore)\n",
    "print (\"Gradient Boost:\", GBscore)\n",
    "print ()"
   ]
  },
  {
   "cell_type": "markdown",
   "metadata": {},
   "source": [
    "We can parse the *feature_importances_* variables for each model to see which features the models found most important.  The following code does this for you."
   ]
  },
  {
   "cell_type": "code",
   "execution_count": 5,
   "metadata": {
    "collapsed": false
   },
   "outputs": [
    {
     "name": "stdout",
     "output_type": "stream",
     "text": [
      "Decsision Tree Importance\n",
      "1. feature 3 (0.605619)\n",
      "2. feature 2 (0.394381)\n",
      "3. feature 1 (0.000000)\n",
      "4. feature 0 (0.000000)\n",
      "\n",
      "Random Forest Importance\n",
      "1. feature 3 (0.449457)\n",
      "2. feature 2 (0.396069)\n",
      "3. feature 0 (0.108318)\n",
      "4. feature 1 (0.046156)\n",
      "\n",
      "Extra Trees Importance\n",
      "1. feature 3 (0.478541)\n",
      "2. feature 2 (0.332334)\n",
      "3. feature 0 (0.132471)\n",
      "4. feature 1 (0.056654)\n",
      "\n",
      "AdaBoost Importance\n",
      "1. feature 3 (0.500000)\n",
      "2. feature 2 (0.400000)\n",
      "3. feature 0 (0.100000)\n",
      "4. feature 1 (0.000000)\n",
      "\n",
      "Gradient Boost Importance\n",
      "1. feature 3 (0.542569)\n",
      "2. feature 2 (0.311392)\n",
      "3. feature 1 (0.119088)\n",
      "4. feature 0 (0.026951)\n",
      "\n"
     ]
    }
   ],
   "source": [
    "print (\"Decsision Tree Importance\")\n",
    "# creating an array called indices that is the feature ssorted in descending order\n",
    "indices = np.argsort(DTimportance)[::-1]\n",
    "# this is saying for each element equal to the number of columns in the matrix X:\n",
    "for f in range(X.shape[1]):   \n",
    "    print(\"%d. feature %d (%f)\" % (f + 1, indices[f], DTimportance[indices[f]]))\n",
    "print()\n",
    "\n",
    "print (\"Random Forest Importance\")\n",
    "indices = np.argsort(RFimportance)[::-1]\n",
    "for f in range(X.shape[1]):\n",
    "    print(\"%d. feature %d (%f)\" % (f + 1, indices[f], RFimportance[indices[f]]))\n",
    "print ()\n",
    "\n",
    "print (\"Extra Trees Importance\")\n",
    "indices = np.argsort(ETimportance)[::-1]\n",
    "for f in range(X.shape[1]):\n",
    "    print(\"%d. feature %d (%f)\" % (f + 1, indices[f], ETimportance[indices[f]]))\n",
    "print ()\n",
    "\n",
    "print (\"AdaBoost Importance\")\n",
    "indices = np.argsort(ABimportance)[::-1]\n",
    "for f in range(X.shape[1]):\n",
    "    print(\"%d. feature %d (%f)\" % (f + 1, indices[f], ABimportance[indices[f]]))\n",
    "print ()\n",
    "\n",
    "print (\"Gradient Boost Importance\")\n",
    "indices = np.argsort(GBimportance)[::-1]\n",
    "for f in range(X.shape[1]):\n",
    "    print(\"%d. feature %d (%f)\" % (f + 1, indices[f], GBimportance[indices[f]]))\n",
    "print ()"
   ]
  },
  {
   "cell_type": "markdown",
   "metadata": {
    "collapsed": true
   },
   "source": [
    "Based on the results above, the *decision tree classifier* seems to be the most accurate for this simple problem.  We can save this model into a *pkl* (pronounced pickle) using the *pickle* library."
   ]
  },
  {
   "cell_type": "code",
   "execution_count": 6,
   "metadata": {
    "collapsed": true
   },
   "outputs": [],
   "source": [
    "import pickle"
   ]
  },
  {
   "cell_type": "markdown",
   "metadata": {},
   "source": [
    "We can save the model using the *dump* function after the model has been trained.  This requires us to open up a file and dump the model into the file.  Make sure you close your files!  The dump is a binary dump, so the open mode *w* and *b* should both be specified for *write* and *binary*."
   ]
  },
  {
   "cell_type": "code",
   "execution_count": 9,
   "metadata": {
    "collapsed": true
   },
   "outputs": [],
   "source": [
    "fileName = \"Saved_DT.pkl\"\n",
    "f = open(fileName, 'wb')\n",
    "pickle.dump(DT, f)\n",
    "f.close()"
   ]
  },
  {
   "cell_type": "markdown",
   "metadata": {},
   "source": [
    "After it is saved, we can load it once again using the following code.  Once again, always close your files in Python!   "
   ]
  },
  {
   "cell_type": "code",
   "execution_count": 11,
   "metadata": {
    "collapsed": false
   },
   "outputs": [],
   "source": [
    "f = open(fileName, 'rb')\n",
    "loaded_RF = pickle.load(f)\n",
    "f.close()"
   ]
  },
  {
   "cell_type": "markdown",
   "metadata": {},
   "source": [
    "We can then predict some values from the model. "
   ]
  },
  {
   "cell_type": "code",
   "execution_count": 14,
   "metadata": {
    "collapsed": false
   },
   "outputs": [
    {
     "name": "stdout",
     "output_type": "stream",
     "text": [
      "2 2\n",
      "1 1\n",
      "0 0\n",
      "2 2\n",
      "0 0\n",
      "2 2\n",
      "0 0\n",
      "1 1\n",
      "1 1\n",
      "1 1\n"
     ]
    }
   ],
   "source": [
    "X_test_spl = X_test[0:10]\n",
    "y_test_spl = y_test[0:10]\n",
    "\n",
    "predictions = loaded_RF.predict(X_test_spl)\n",
    "\n",
    "for i in range(0,len(predictions)):\n",
    "    print(predictions[i], y_test_spl[i])"
   ]
  },
  {
   "cell_type": "markdown",
   "metadata": {},
   "source": [
    "And we quickly see, the model is perfect.\n",
    "\n",
    "OK, not really."
   ]
  },
  {
   "cell_type": "code",
   "execution_count": null,
   "metadata": {
    "collapsed": true
   },
   "outputs": [],
   "source": []
  }
 ],
 "metadata": {
  "kernelspec": {
   "display_name": "Python 2",
   "language": "python",
   "name": "python2"
  },
  "language_info": {
   "codemirror_mode": {
    "name": "ipython",
    "version": 2
   },
   "file_extension": ".py",
   "mimetype": "text/x-python",
   "name": "python",
   "nbconvert_exporter": "python",
   "pygments_lexer": "ipython2",
   "version": "2.7.13"
  }
 },
 "nbformat": 4,
 "nbformat_minor": 2
}
